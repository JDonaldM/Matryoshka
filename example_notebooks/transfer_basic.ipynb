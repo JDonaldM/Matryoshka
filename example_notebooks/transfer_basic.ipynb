{
 "cells": [
  {
   "cell_type": "markdown",
   "metadata": {},
   "source": [
    "# Toy example of tranfer function emulator usage\n",
    "\n",
    "The purpose of this notebook is to demonstrate how to initalise and make predictions with the transfer funtion $T(k)$ base model componenet emulator of `Matryoshka`.\n",
    "\n",
    "We will start by loading the `emulator` module of `Matryoshka` along with `matplotlib` for plotting and `time` for timing predictions. We will also load `numpy` and the base model validation set."
   ]
  },
  {
   "cell_type": "code",
   "execution_count": 1,
   "metadata": {},
   "outputs": [],
   "source": [
    "import matplotlib.pyplot as plt\n",
    "import matryoshka.emulator as Matry\n",
    "import time\n",
    "import numpy as np\n",
    "\n",
    "cache_dir = \"<path to cache matryoshka-data directory>\"\n",
    "valX = np.load(cache_dir+\"class_aemulus/val/X_transfer-v3.npy\")\n",
    "valY = np.load(cache_dir+\"class_aemulus/val/X_transfer-v3.npy\")"
   ]
  },
  {
   "cell_type": "markdown",
   "metadata": {},
   "source": [
    "To initalise the $T(k)$ emulator is very simple, we use the `Transfer()` class. Upon initalisation all the neural network weighs are loaded, along with the predefined scalers needed to make predictions with the emulator and the $k$ values corresponding to the predictions."
   ]
  },
  {
   "cell_type": "code",
   "execution_count": 2,
   "metadata": {},
   "outputs": [],
   "source": [
    "TransferEmu = Matry.Transfer()"
   ]
  },
  {
   "cell_type": "markdown",
   "metadata": {},
   "source": [
    "Predictions are made with the `.emu_predict` method."
   ]
  },
  {
   "cell_type": "code",
   "execution_count": 3,
   "metadata": {},
   "outputs": [
    {
     "name": "stdout",
     "output_type": "stream",
     "text": [
      "1600 predictions made in 0.122 seconds.\n"
     ]
    }
   ],
   "source": [
    "start = time.time()\n",
    "EmuPreds = TransferEmu.emu_predict(valX)\n",
    "end = time.time()\n",
    "\n",
    "print(\"{a} predictions made in {b} seconds.\".format(a=valX.shape[0], b=np.round(end-start,3)))"
   ]
  },
  {
   "cell_type": "code",
   "execution_count": null,
   "metadata": {},
   "outputs": [],
   "source": []
  }
 ],
 "metadata": {
  "kernelspec": {
   "display_name": "halomodel_v3",
   "language": "python",
   "name": "halomodel_v3"
  },
  "language_info": {
   "codemirror_mode": {
    "name": "ipython",
    "version": 3
   },
   "file_extension": ".py",
   "mimetype": "text/x-python",
   "name": "python",
   "nbconvert_exporter": "python",
   "pygments_lexer": "ipython3",
   "version": "3.7.9"
  }
 },
 "nbformat": 4,
 "nbformat_minor": 4
}
